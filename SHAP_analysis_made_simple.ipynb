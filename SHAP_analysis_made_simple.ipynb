{
 "cells": [
  {
   "cell_type": "markdown",
   "id": "90ec70c9",
   "metadata": {},
   "source": [
    "# SHAP Calculation Example\n",
    "\n",
    "## How SHAP works under the hood?\n",
    "\n",
    "SHAP (SHapley Additive exPlanations) calculates model predictions by assigning each feature a Shapley value,which represents the contribution of that feature to the prediction. The Shapley values are derived from cooperative game theory and are based on the idea of fairly distributing the payout (the model prediction) among the features.\n",
    "\n",
    "This document provides a simple example of how SHAP calculates the model prediction using its formula."
   ]
  },
  {
   "cell_type": "markdown",
   "id": "adfc17e1",
   "metadata": {},
   "source": [
    "# Model Setup\n",
    "\n",
    "Suppose we have a model with three features: $X_1$, $X_2$, and $X_3$, and a prediction $f(X)$ for an instance $X = (X_1, X_2, X_3)$. We want to calculate the contribution of each feature to the prediction using SHAP."
   ]
  },
  {
   "cell_type": "markdown",
   "id": "aa16dcab",
   "metadata": {},
   "source": [
    "\n",
    "# Shapley Value Formula\n",
    "The Shapley value ϕᵢ for a feature Xᵢ is calculated as the weighted average of its marginal contribution across all possible orderings of the features:\n",
    "\n",
    "\n",
    "\n",
    "$$\n",
    "\\phi_i(f) = \\sum_{S \\subseteq N \\setminus \\{i\\}} \n",
    "\\frac{|S|! (|N| - |S| - 1)!}{|N|!} \n",
    "\\left( f(S \\cup \\{i\\}) - f(S) \\right)\n",
    "$$\n",
    "\n",
    "\n",
    "## Where:\n",
    "\n",
    "N is the set of all features (in this case, N = {X₁, X₂, X₃}),\n",
    "\n",
    "S is a subset of features excluding Xᵢ,\n",
    "\n",
    "f(S) is the model prediction when using only the features in subset S,\n",
    "\n",
    "f(S ∪ {i}) is the model prediction when using the features in subset S plus the feature Xᵢ.\n",
    "\n"
   ]
  },
  {
   "cell_type": "markdown",
   "id": "32d39fb1",
   "metadata": {},
   "source": [
    "# Step-by-Step Explanation\n",
    "Consider all subsets S of features that do not include Xᵢ.\n",
    "For example, if we are calculating the Shapley value for X₁, consider subsets of {X₂, X₃}.\n",
    "\n",
    "Calculate the model prediction for each subset S (denoted as f(S))\n",
    "and for the subset S ∪ {i} (denoted as f(S ∪ {i})).\n",
    "\n",
    "Calculate the marginal contribution:\n",
    "f(S ∪ {i}) - f(S)\n",
    "which represents how much the feature Xᵢ adds to the prediction when included in the subset.\n",
    "\n",
    "Weight the contributions by the factor:\n",
    "\n",
    "(|S|! * (|N| - |S| - 1)!) / |N|!\n",
    "\n",
    "This weight reflects how likely it is for the feature Xᵢ to appear in a particular position in an ordering of features.\n",
    "\n",
    "Sum the weighted contributions across all subsets S.\n",
    "\n"
   ]
  },
  {
   "cell_type": "markdown",
   "id": "d54e3b95",
   "metadata": {},
   "source": [
    "# Simple Example\n",
    "Let's consider a simple example with three features, and assume the following predictions:\n",
    "\n",
    "$f(\\emptyset) = 5$ (prediction with no features)\n",
    "\n",
    "$f({X_1}) = 6$ (prediction with just $X_1$)\n",
    "\n",
    "$f({X_2}) = 7$ (prediction with just $X_2$)\n",
    "\n",
    "$f({X_3}) = 8$ (prediction with just $X_3$)\n",
    "\n",
    "$f({X_1, X_2}) = 8$\n",
    "\n",
    "$f({X_1, X_3}) = 9$\n",
    "\n",
    "$f({X_2, X_3}) = 10$\n",
    "\n",
    "$f({X_1, X_2, X_3}) = 11$\n",
    "\n",
    "Now, we want to calculate the Shapley value for $X_1$:\n",
    "\n",
    "$$\n",
    "\\phi_1(f) = \\frac{1}{3!} \\left( (f(\\{X_1, X_2\\}) - f(\\{X_2\\})) + (f(\\{X_1, X_3\\}) - f(\\{X_3\\})) + (f(\\{X_1, X_2, X_3\\}) - f(\\{X_2, X_3\\})) \\right)\n",
    "$$\n",
    "\n",
    "Breaking it down:\n",
    "\n",
    "$f({X_1, X_2}) - f({X_2}) = 8 - 7 = 1$\n",
    "\n",
    "$f({X_1, X_3}) - f({X_3}) = 9 - 8 = 1$\n",
    "\n",
    "$f({X_1, X_2, X_3}) - f({X_2, X_3}) = 11 - 10 = 1$\n",
    "\n",
    "So:\n",
    "$$\n",
    "\\phi_1(f) = \\frac{1}{3!} (1 + 1 + 1) = \\frac{3}{6} = 0.5\n",
    "$$\n"
   ]
  },
  {
   "cell_type": "markdown",
   "id": "c190268a",
   "metadata": {},
   "source": [
    "# Final Prediction\n",
    "The model's prediction for an instance $X = (X_1, X_2, X_3)$ can be expressed as the sum of the base value and the contributions from each feature:\n",
    "\n",
    "$$\n",
    "f(X) = f(\\emptyset) + \\phi_1(f) + \\phi_2(f) + \\phi_3(f)\n",
    "$$\n",
    "Each feature's Shapley value $\\phi_i$ represents its contribution to the prediction.\n"
   ]
  },
  {
   "cell_type": "markdown",
   "id": "fa9ab573",
   "metadata": {},
   "source": [
    "# What is the Base Value\n",
    "The base value (denoted as $$f(\\emptyset)$$ is the expected value of the model's output when no features are known. In simple terms, it's what the model would predict if it had no information about the input.\n",
    "\n",
    "Think of it like the model's baseline guess—its average output before seeing any features.\n"
   ]
  },
  {
   "cell_type": "code",
   "execution_count": null,
   "id": "089c06a8",
   "metadata": {},
   "outputs": [],
   "source": []
  }
 ],
 "metadata": {
  "kernelspec": {
   "display_name": "Python 3 (ipykernel)",
   "language": "python",
   "name": "python3"
  },
  "language_info": {
   "codemirror_mode": {
    "name": "ipython",
    "version": 3
   },
   "file_extension": ".py",
   "mimetype": "text/x-python",
   "name": "python",
   "nbconvert_exporter": "python",
   "pygments_lexer": "ipython3",
   "version": "3.10.11"
  }
 },
 "nbformat": 4,
 "nbformat_minor": 5
}
